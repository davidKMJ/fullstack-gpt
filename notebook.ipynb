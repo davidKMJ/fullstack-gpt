{
 "cells": [
  {
   "cell_type": "markdown",
   "metadata": {},
   "source": [
    "## HuggingFacePipeline"
   ]
  },
  {
   "cell_type": "code",
   "execution_count": 3,
   "metadata": {},
   "outputs": [
    {
     "name": "stdout",
     "output_type": "stream",
     "text": [
      "What is the meaning of life? (Philosophy)\n",
      "The question of the meaning of life is one of the most profound and enduring questions in philosophy, with various interpretations and perspectives across different cultures, traditions, and philosophical schools. Here's a brief overview:\n",
      "\n",
      "**Ancient Greek perspectives:**\n",
      "\n",
      "* **Hedonism**: Epicurus (341-270 BCE) believed that the meaning of life is to attain happiness and avoid physical pain and mental distress.\n",
      "* **Stoicism**: Epictetus (55-135 CE) argued that the meaning of life is to live in accordance with reason, virtue, and nature, accepting the things that are outside of one's control.\n",
      "* **Aristotelianism**: Aristotle (384-322 BCE) believed that the meaning of life is to achieve eudaimonia, a state of flourishing and fulfillment through living a virtuous life.\n",
      "\n",
      "**Eastern perspectives:**\n",
      "\n",
      "* **Buddhism**: The Four Noble Truths, as taught by Siddhartha Gautama (563-483 BCE), suggest that the meaning of life is to attain enlightenment, or Nirvana, by understanding and escaping the cycle of suffering and rebirth.\n",
      "* **Taoism**: The Tao Te Ching (6th century BCE) emphasizes the importance of living in harmony with the natural world and embracing the fluid, ever-changing nature of reality.\n",
      "\n",
      "**Modern perspectives:**\n",
      "\n",
      "* **Existentialism**: Philosophers like Jean-Paul Sartre (1905-1980) and Martin Heidegger (1889-1976) argue that life has no inherent meaning, and it is up to individuals to create their own purpose and meaning through their choices and actions.\n",
      "* **Humanism**: This perspective, exemplified by thinkers like Immanuel Kant (1724-1804) and Friedrich Nietzsche (1844-1900), emphasizes the importance of human dignity, reason, and individual freedom in creating one's own meaning in life.\n",
      "\n",
      "**Other perspectives:**\n",
      "\n",
      "* **Theism**: Many religious traditions, such as Christianity, Islam, and Judaism, believe that the meaning of life is to fulfill God's will and follow divine commandments.\n",
      "* **Pantheism**: Some philosophers, like Baruch Spinoza (1632-1677), argue that the meaning of life is to understand and appreciate the interconnectedness of all things, and to live in harmony with the natural world.\n",
      "\n",
      "These perspectives are not exhaustive, and many philosophers and thinkers have contributed to the ongoing debate about the meaning of life. Ultimately, the question of the meaning of life remains a deeply personal and subjective one, and each individual must find their own answer through reflection, experience, and exploration.\n"
     ]
    }
   ],
   "source": [
    "from langchain.llms.huggingface_hub import HuggingFaceHub\n",
    "from langchain.prompts import PromptTemplate\n",
    "\n",
    "prompt = PromptTemplate.from_template(\"What is the meaning of {word}?\")\n",
    "\n",
    "llm = HuggingFaceHub(\n",
    "    repo_id = \"meta-llama/Llama-3.2-3B-Instruct\",\n",
    "    model_kwargs = {\n",
    "        \"`max_new_tokens\": 500,\n",
    "    }\n",
    ")\n",
    "\n",
    "chain = prompt | llm\n",
    "\n",
    "print(chain.invoke({\n",
    "    \"word\": \"life\"\n",
    "}))"
   ]
  },
  {
   "cell_type": "markdown",
   "metadata": {},
   "source": [
    "## HuggingFacePipeline"
   ]
  },
  {
   "cell_type": "code",
   "execution_count": 5,
   "metadata": {},
   "outputs": [
    {
     "name": "stderr",
     "output_type": "stream",
     "text": [
      "Downloading tokenizer_config.json: 100%|██████████| 26.0/26.0 [00:00<00:00, 46.7kB/s]\n",
      "Downloading config.json: 100%|██████████| 665/665 [00:00<00:00, 1.97MB/s]\n",
      "Downloading vocab.json: 100%|██████████| 1.04M/1.04M [00:00<00:00, 1.83MB/s]\n",
      "Downloading merges.txt: 100%|██████████| 456k/456k [00:00<00:00, 1.18MB/s]\n",
      "Downloading tokenizer.json: 100%|██████████| 1.36M/1.36M [00:00<00:00, 1.90MB/s]\n",
      "Downloading model.safetensors: 100%|██████████| 548M/548M [01:11<00:00, 7.70MB/s] \n",
      "Downloading generation_config.json: 100%|██████████| 124/124 [00:00<00:00, 389kB/s]\n",
      "Using pad_token, but it is not set yet.\n",
      "Setting `pad_token_id` to `eos_token_id`:50256 for open-end generation.\n"
     ]
    },
    {
     "data": {
      "text/plain": [
       "'What is the meaning of potato?\\n\\nWhat is the meaning of potato? \"Soup\" is not the right word, but it means something different. In general it is not a word meaning you have a dish of potato. It means that you have two slices or a whole, you have a potato and two fruits in your food. It means you have three types of foods, you have a potato, or you have two to three vegetables. On different levels you can express the same meaning. In some situations it is possible to say, \"I have two potatoes, and two breads.\" It is not necessary to say for all situations, that there are three basic foods there is potato, or the potato and breads both. But this does not mean there is three separate kinds of foods. The basic foods are potato, potato and bread and the potatoes and bread are vegetables. The potatoes are also called bread, and the bread is called potatoes. It is therefore really an utterance, without any idea of whether you actually have or need to say those two. We are speaking of things which are made in a different way, which cannot be related by name. So it is not possible to add another phrase to that sentence. This would not be true of what we shall say. This is important, because what a sentence means is not only important to one and the same person if the phrase is added, but it means something different between people (for example, in a joke, the audience might say something different that is too funny). It means that you have to speak to the audience about it after it has been said and made.\\n\\n\\nSoup is not a word for \"a whole, as in one.\" This sentence must mean a whole, something at least more difficult to grasp. The next sentence means that there is more difficulty. You might say: \"There is more difficulty in two than in one.\" If the sentence is going to say so, then it is necessary for the audience to get the full meaning of the phrase or phrase alone and without asking them to repeat the phrase. It is clear that for example: \"Now, you think that we have one whole, as in one.\" The audience, if they ask you for the full meaning, will not be able to say any of these things with you. Some people believe that a big word like \"a whole\" is like a word for a whole meal, but we can only say \"that is\" or make a mistake. For'"
      ]
     },
     "execution_count": 5,
     "metadata": {},
     "output_type": "execute_result"
    }
   ],
   "source": [
    "from langchain.llms.huggingface_pipeline import HuggingFacePipeline\n",
    "from langchain.prompts import PromptTemplate\n",
    "\n",
    "prompt = PromptTemplate.from_template(\"What is the meaning of {word}?\")\n",
    "\n",
    "llm = HuggingFacePipeline.from_model_id(\n",
    "    model_id=\"gpt2\",\n",
    "    task=\"text-generation\",\n",
    "    pipeline_kwargs = {\"max_new_tokens\": 500}\n",
    ")\n",
    "\n",
    "chain = prompt | llm\n",
    "\n",
    "chain.invoke({\"word\": \"potato\"})"
   ]
  },
  {
   "cell_type": "markdown",
   "metadata": {},
   "source": [
    "## GPT4ALL"
   ]
  },
  {
   "cell_type": "code",
   "execution_count": null,
   "metadata": {},
   "outputs": [],
   "source": [
    "from langchain.llms.gpt4all import GPT4All\n",
    "from langchain.prompts import PromptTemplate\n",
    "from langchain_core.callbacks import StreamingStdOutCallbackHandler\n",
    "\n",
    "prompt = PromptTemplate.from_template(\"What is the meaning of {word}?\")\n",
    "\n",
    "# llm = GPT4All(\n",
    "#     model=\"./model.gguf\",\n",
    "#     streaming=True,\n",
    "#     callbacks=[StreamingStdOutCallbackHandler()],\n",
    "# )\n",
    "\n",
    "chain = prompt | llm\n",
    "\n",
    "chain.invoke({\"word\": \"potato\"})"
   ]
  },
  {
   "cell_type": "markdown",
   "metadata": {},
   "source": [
    "## Ollama"
   ]
  },
  {
   "cell_type": "code",
   "execution_count": null,
   "metadata": {},
   "outputs": [],
   "source": []
  }
 ],
 "metadata": {
  "kernelspec": {
   "display_name": "fullstack-gpt-Wpua4Cas",
   "language": "python",
   "name": "python3"
  },
  "language_info": {
   "codemirror_mode": {
    "name": "ipython",
    "version": 3
   },
   "file_extension": ".py",
   "mimetype": "text/x-python",
   "name": "python",
   "nbconvert_exporter": "python",
   "pygments_lexer": "ipython3",
   "version": "3.11.6"
  }
 },
 "nbformat": 4,
 "nbformat_minor": 2
}
