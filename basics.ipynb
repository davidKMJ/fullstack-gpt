{
 "cells": [
  {
   "cell_type": "markdown",
   "metadata": {},
   "source": [
    "# Introduction"
   ]
  },
  {
   "cell_type": "markdown",
   "metadata": {},
   "source": [
    "## LLMs and Chat Models"
   ]
  },
  {
   "cell_type": "code",
   "execution_count": 1,
   "metadata": {},
   "outputs": [
    {
     "data": {
      "text/plain": [
       "'There are 8 planets in our solar system: Mercury, Venus, Earth, Mars, Jupiter, Saturn, Uranus, and Neptune.'"
      ]
     },
     "execution_count": 1,
     "metadata": {},
     "output_type": "execute_result"
    }
   ],
   "source": [
    "from langchain.llms.openai import OpenAI\n",
    "from langchain.chat_models import ChatOpenAI, ChatAnthropic\n",
    "\n",
    "# llm = OpenAI(): deprecatetd\n",
    "chat = ChatOpenAI()\n",
    "\n",
    "# a = llm.predict(\"How many planets are there?\"): deprecated\n",
    "b = chat.predict(\"How many planets are there?\")\n",
    "\n",
    "b"
   ]
  },
  {
   "cell_type": "markdown",
   "metadata": {},
   "source": [
    "## Predict Messages"
   ]
  },
  {
   "cell_type": "code",
   "execution_count": 2,
   "metadata": {},
   "outputs": [],
   "source": [
    "from langchain.chat_models import ChatOpenAI\n",
    "\n",
    "chat = ChatOpenAI(\n",
    "    temperature=0.1,\n",
    ")"
   ]
  },
  {
   "cell_type": "code",
   "execution_count": 3,
   "metadata": {},
   "outputs": [
    {
     "data": {
      "text/plain": [
       "AIMessage(content='La distanza tra il Messico e la Thailandia è di circa 16.000 chilometri. Come posso aiutarti oggi?')"
      ]
     },
     "execution_count": 3,
     "metadata": {},
     "output_type": "execute_result"
    }
   ],
   "source": [
    "from langchain.schema import HumanMessage, AIMessage, SystemMessage\n",
    "\n",
    "messages = [\n",
    "    SystemMessage(\n",
    "        content=\"You are a geography expert. And you only reply in Italian.\",\n",
    "    ),\n",
    "    AIMessage(content=\"Ciao, mi chiamo Paolo!\"),\n",
    "    HumanMessage(\n",
    "        content=\"What is the distance between Mexico and Thailand. Also, what is your name?\",\n",
    "    ),\n",
    "]\n",
    "\n",
    "chat.predict_messages(messages)"
   ]
  },
  {
   "cell_type": "markdown",
   "metadata": {},
   "source": [
    "## Prompt Templates"
   ]
  },
  {
   "cell_type": "code",
   "execution_count": 4,
   "metadata": {},
   "outputs": [
    {
     "data": {
      "text/plain": [
       "'The distance between Mexico and Thailand is approximately 16,000 kilometers (9,942 miles) when measured in a straight line.'"
      ]
     },
     "execution_count": 4,
     "metadata": {},
     "output_type": "execute_result"
    }
   ],
   "source": [
    "from langchain.prompts import PromptTemplate\n",
    "\n",
    "\n",
    "template = PromptTemplate.from_template(\"What is the distance between {country_a} and {country_b}?\")\n",
    "\n",
    "prompt = template.format(country_a=\"Mexico\", country_b=\"Thailand\")\n",
    "\n",
    "chat.predict(prompt)"
   ]
  },
  {
   "cell_type": "code",
   "execution_count": 5,
   "metadata": {},
   "outputs": [
    {
     "data": {
      "text/plain": [
       "AIMessage(content='Γεια σας! Η απόσταση μεταξύ του Μεξικού και της Ταϊλάνδης είναι περίπου 16.000 χιλιόμετρα. Το όνομά μου είναι Σωκράτης. Πώς μπορώ να βοηθήσω;')"
      ]
     },
     "execution_count": 5,
     "metadata": {},
     "output_type": "execute_result"
    }
   ],
   "source": [
    "from langchain.prompts import ChatPromptTemplate\n",
    "\n",
    "template = ChatPromptTemplate.from_messages([\n",
    "    (\"system\", \"You are a geography expert. And you only reply in {language}.\"),\n",
    "    (\"ai\", \"Ciao, mi chiamo {name}!\"),\n",
    "    (\"human\", \"What is the distance between {country_a} and {country_b}. Also, what is your name?\"),\n",
    "])\n",
    "\n",
    "prompt = template.format_messages(\n",
    "    language=\"Greek\",\n",
    "    name=\"Socrates\",\n",
    "    country_a=\"Mexico\",\n",
    "    country_b=\"Thailand\",\n",
    ")\n",
    "\n",
    "chat.predict_messages(prompt)"
   ]
  },
  {
   "cell_type": "markdown",
   "metadata": {},
   "source": [
    "## OutputParser and LCEL"
   ]
  },
  {
   "cell_type": "code",
   "execution_count": 6,
   "metadata": {},
   "outputs": [
    {
     "data": {
      "text/plain": [
       "['Hello', 'how', 'are', 'you']"
      ]
     },
     "execution_count": 6,
     "metadata": {},
     "output_type": "execute_result"
    }
   ],
   "source": [
    "from langchain.schema import BaseOutputParser\n",
    "\n",
    "class CommaOutputParser(BaseOutputParser):\n",
    "    def parse(self, text):\n",
    "        items = text.strip().split(\",\")\n",
    "        return list(map(str.strip, items))\n",
    "    \n",
    "\n",
    "p = CommaOutputParser()\n",
    "\n",
    "p.parse(\"Hello, how, are, you\")"
   ]
  },
  {
   "cell_type": "code",
   "execution_count": 7,
   "metadata": {},
   "outputs": [
    {
     "data": {
      "text/plain": [
       "['red',\n",
       " 'blue',\n",
       " 'green',\n",
       " 'yellow',\n",
       " 'orange',\n",
       " 'purple',\n",
       " 'pink',\n",
       " 'black',\n",
       " 'white',\n",
       " 'brown']"
      ]
     },
     "execution_count": 7,
     "metadata": {},
     "output_type": "execute_result"
    }
   ],
   "source": [
    "template =  ChatPromptTemplate.from_messages([\n",
    "    (\"system\", \"You are a list generating machine. Everything you are asked will be answered with a comma separated list of max {max_items} in lowercase. Do NOT reply with anything else.\"),\n",
    "    (\"human\", \"{question}\"),\n",
    "])\n",
    "\n",
    "prompt = template.format_messages(\n",
    "    max_items=10,\n",
    "    question=\"What are the colors?\",\n",
    ")\n",
    "\n",
    "result = chat.predict_messages(prompt)\n",
    "\n",
    "p.parse(result.content)"
   ]
  },
  {
   "cell_type": "code",
   "execution_count": 8,
   "metadata": {},
   "outputs": [
    {
     "data": {
      "text/plain": [
       "['pikachu', 'charmander', 'bulbasaur', 'squirtle', 'jigglypuff']"
      ]
     },
     "execution_count": 8,
     "metadata": {},
     "output_type": "execute_result"
    }
   ],
   "source": [
    "chain = template | chat | CommaOutputParser()\n",
    "\n",
    "chain.invoke({\n",
    "    \"max_items\": 5,\n",
    "    \"question\": \"What are the pokemons?\",\n",
    "})"
   ]
  },
  {
   "cell_type": "markdown",
   "metadata": {},
   "source": [
    "## Chaining Chains"
   ]
  },
  {
   "cell_type": "code",
   "execution_count": 9,
   "metadata": {},
   "outputs": [],
   "source": [
    "from langchain.chat_models import ChatOpenAI\n",
    "from langchain.prompts import ChatPromptTemplate\n",
    "from langchain.callbacks import StreamingStdOutCallbackHandler\n",
    "\n",
    "chat = ChatOpenAI(temperature=0.1, streaming=True, callbacks=[StreamingStdOutCallbackHandler()])\n",
    "\n",
    "chef_prompt = ChatPromptTemplate.from_messages([\n",
    "    (\"system\", \"You are a world-class international chef. You create easy to follow recipes for any type of cuisine with easy to find ingredients.\"),\n",
    "    (\"human\", \"I want to cook {cuisine} food.\"),\n",
    "])\n",
    "\n",
    "chef_chain = chef_prompt | chat"
   ]
  },
  {
   "cell_type": "code",
   "execution_count": 10,
   "metadata": {},
   "outputs": [
    {
     "name": "stdout",
     "output_type": "stream",
     "text": [
      "Great choice! Indian cuisine is known for its bold flavors and aromatic spices. Let's start with a classic and popular dish - Chicken Tikka Masala. Here's a simple recipe for you to try at home:\n",
      "\n",
      "Chicken Tikka Masala\n",
      "\n",
      "Ingredients:\n",
      "- 1 lb boneless, skinless chicken breasts, cut into bite-sized pieces\n",
      "- 1 cup plain yogurt\n",
      "- 2 tbsp lemon juice\n",
      "- 2 tbsp vegetable oil\n",
      "- 1 onion, finely chopped\n",
      "- 3 cloves garlic, minced\n",
      "- 1-inch piece of ginger, grated\n",
      "- 1 can (14 oz) tomato sauce\n",
      "- 1 cup heavy cream\n",
      "- 2 tsp garam masala\n",
      "- 1 tsp ground cumin\n",
      "- 1 tsp ground coriander\n",
      "- 1 tsp paprika\n",
      "- 1/2 tsp turmeric\n",
      "- Salt and pepper, to taste\n",
      "- Fresh cilantro, for garnish\n",
      "\n",
      "Instructions:\n",
      "1. In a bowl, combine the yogurt, lemon juice, 1 tbsp vegetable oil, 1 tsp garam masala, 1/2 tsp cumin, 1/2 tsp coriander, paprika, turmeric, salt, and pepper. Add the chicken pieces and marinate for at least 1 hour, preferably overnight.\n",
      "2. Preheat the oven to 400°F (200°C). Thread the marinated chicken onto skewers and place them on a baking sheet. Bake for 20-25 minutes or until cooked through.\n",
      "3. In a large skillet, heat the remaining 1 tbsp of vegetable oil over medium heat. Add the onion and cook until softened, about 5 minutes. Add the garlic and ginger, and cook for another minute.\n",
      "4. Stir in the remaining garam masala, cumin, and coriander. Add the tomato sauce and simmer for 10 minutes.\n",
      "5. Add the heavy cream and cooked chicken tikka to the skillet. Simmer for an additional 5-10 minutes, stirring occasionally.\n",
      "6. Season with salt and pepper to taste. Garnish with fresh cilantro before serving.\n",
      "7. Serve the Chicken Tikka Masala hot with steamed rice or naan bread.\n",
      "\n",
      "Enjoy your homemade Chicken Tikka Masala! Feel free to adjust the spice levels to suit your taste preferences.To make this Chicken Tikka Masala recipe vegetarian, we can replace the chicken with a suitable alternative. One popular substitute for chicken in Indian dishes is paneer, which is a type of Indian cottage cheese. Here's how you can modify the recipe:\n",
      "\n",
      "**Vegetarian Chicken Tikka Masala**\n",
      "\n",
      "**Ingredients:**\n",
      "- 1 lb paneer, cut into bite-sized pieces\n",
      "- 1 cup plain yogurt\n",
      "- 2 tbsp lemon juice\n",
      "- 2 tbsp vegetable oil\n",
      "- 1 onion, finely chopped\n",
      "- 3 cloves garlic, minced\n",
      "- 1-inch piece of ginger, grated\n",
      "- 1 can (14 oz) tomato sauce\n",
      "- 1 cup heavy cream\n",
      "- 2 tsp garam masala\n",
      "- 1 tsp ground cumin\n",
      "- 1 tsp ground coriander\n",
      "- 1 tsp paprika\n",
      "- 1/2 tsp turmeric\n",
      "- Salt and pepper, to taste\n",
      "- Fresh cilantro, for garnish\n",
      "\n",
      "**Instructions:**\n",
      "1. In a bowl, combine the yogurt, lemon juice, 1 tbsp vegetable oil, 1 tsp garam masala, 1/2 tsp cumin, 1/2 tsp coriander, paprika, turmeric, salt, and pepper. Add the paneer pieces and marinate for at least 1 hour, preferably overnight.\n",
      "2. Preheat the oven to 400°F (200°C). Thread the marinated paneer onto skewers and place them on a baking sheet. Bake for 20-25 minutes or until slightly browned.\n",
      "3. In a large skillet, heat the remaining 1 tbsp of vegetable oil over medium heat. Add the onion and cook until softened, about 5 minutes. Add the garlic and ginger, and cook for another minute.\n",
      "4. Stir in the remaining garam masala, cumin, and coriander. Add the tomato sauce and simmer for 10 minutes.\n",
      "5. Add the heavy cream and cooked paneer tikka to the skillet. Simmer for an additional 5-10 minutes, stirring occasionally.\n",
      "6. Season with salt and pepper to taste. Garnish with fresh cilantro before serving.\n",
      "7. Serve the Vegetarian Chicken Tikka Masala hot with steamed rice or naan bread.\n",
      "\n",
      "Enjoy your flavorful and vegetarian-friendly version of Chicken Tikka Masala!"
     ]
    },
    {
     "data": {
      "text/plain": [
       "AIMessageChunk(content=\"To make this Chicken Tikka Masala recipe vegetarian, we can replace the chicken with a suitable alternative. One popular substitute for chicken in Indian dishes is paneer, which is a type of Indian cottage cheese. Here's how you can modify the recipe:\\n\\n**Vegetarian Chicken Tikka Masala**\\n\\n**Ingredients:**\\n- 1 lb paneer, cut into bite-sized pieces\\n- 1 cup plain yogurt\\n- 2 tbsp lemon juice\\n- 2 tbsp vegetable oil\\n- 1 onion, finely chopped\\n- 3 cloves garlic, minced\\n- 1-inch piece of ginger, grated\\n- 1 can (14 oz) tomato sauce\\n- 1 cup heavy cream\\n- 2 tsp garam masala\\n- 1 tsp ground cumin\\n- 1 tsp ground coriander\\n- 1 tsp paprika\\n- 1/2 tsp turmeric\\n- Salt and pepper, to taste\\n- Fresh cilantro, for garnish\\n\\n**Instructions:**\\n1. In a bowl, combine the yogurt, lemon juice, 1 tbsp vegetable oil, 1 tsp garam masala, 1/2 tsp cumin, 1/2 tsp coriander, paprika, turmeric, salt, and pepper. Add the paneer pieces and marinate for at least 1 hour, preferably overnight.\\n2. Preheat the oven to 400°F (200°C). Thread the marinated paneer onto skewers and place them on a baking sheet. Bake for 20-25 minutes or until slightly browned.\\n3. In a large skillet, heat the remaining 1 tbsp of vegetable oil over medium heat. Add the onion and cook until softened, about 5 minutes. Add the garlic and ginger, and cook for another minute.\\n4. Stir in the remaining garam masala, cumin, and coriander. Add the tomato sauce and simmer for 10 minutes.\\n5. Add the heavy cream and cooked paneer tikka to the skillet. Simmer for an additional 5-10 minutes, stirring occasionally.\\n6. Season with salt and pepper to taste. Garnish with fresh cilantro before serving.\\n7. Serve the Vegetarian Chicken Tikka Masala hot with steamed rice or naan bread.\\n\\nEnjoy your flavorful and vegetarian-friendly version of Chicken Tikka Masala!\")"
      ]
     },
     "execution_count": 10,
     "metadata": {},
     "output_type": "execute_result"
    }
   ],
   "source": [
    "veg_chef_prompt = ChatPromptTemplate.from_messages([\n",
    "    (\"system\", \"You are a vegetarian chef specialized on makin traditional recipes vegetarian. You find alternative ingredients and explain their preparation. You don't radically modify the recipe. If there is no alternative for a food just say you don't know how to replace it.\"),\n",
    "    (\"human\", \"{recipe}\"),\n",
    "])\n",
    "\n",
    "veg_chain = veg_chef_prompt | chat\n",
    "\n",
    "final_chain = {\"recipe\": chef_chain} | veg_chain\n",
    "\n",
    "final_chain.invoke({\n",
    "    \"cuisine\": \"Indian\",\n",
    "})"
   ]
  },
  {
   "cell_type": "markdown",
   "metadata": {},
   "source": [
    "# Model IO"
   ]
  },
  {
   "cell_type": "markdown",
   "metadata": {},
   "source": [
    "## FewShotPromptTemplate"
   ]
  },
  {
   "cell_type": "code",
   "execution_count": null,
   "metadata": {},
   "outputs": [
    {
     "name": "stdout",
     "output_type": "stream",
     "text": [
      "AI:\n",
      "        Here is what I know:\n",
      "        Capital: Berlin\n",
      "        Population: 83 million\n",
      "        Language: German"
     ]
    },
    {
     "data": {
      "text/plain": [
       "AIMessageChunk(content='AI:\\n        Here is what I know:\\n        Capital: Berlin\\n        Population: 83 million\\n        Language: German')"
      ]
     },
     "execution_count": 11,
     "metadata": {},
     "output_type": "execute_result"
    }
   ],
   "source": [
    "from langchain.chat_models import ChatOpenAI\n",
    "from langchain.prompts import PromptTemplate\n",
    "from langchain.prompts.few_shot import FewShotPromptTemplate\n",
    "from langchain.callbacks import StreamingStdOutCallbackHandler\n",
    "\n",
    "chat = ChatOpenAI(temperature=0.1, streaming=True, callbacks=[StreamingStdOutCallbackHandler()])\n",
    "\n",
    "# t = PromptTemplate(\n",
    "#     template = \"What is the capital of {country}?\",\n",
    "#     input_variables = [\"country\"],\n",
    "# )\n",
    "\n",
    "examples = [\n",
    "    {\n",
    "        \"question\": \"What do you know about France?\",\n",
    "        \"answer\": \"\"\"\n",
    "        Here is what I know:\n",
    "        Capital: Paris\n",
    "        Population: 67 million\n",
    "        Language: French\n",
    "        \"\"\",\n",
    "    },\n",
    "    {\n",
    "        \"question\": \"What do you know about Spain?\",\n",
    "        \"answer\": \"\"\"\n",
    "        Here is what I know:\n",
    "        Capital: Madrid\n",
    "        Population: 47 million\n",
    "        \"\"\"\n",
    "    },\n",
    "    {\n",
    "        \"question\": \"What do you know about Italy?\",\n",
    "        \"answer\": \"\"\"\n",
    "        Here is what I know:\n",
    "        Capital: Rome\n",
    "        Population: 60 million\n",
    "        \"\"\"\n",
    "    }\n",
    "]\n",
    "\n",
    "example_prompt = PromptTemplate.from_template(\"Human:{question}\\nAI:{answer}\")\n",
    "\n",
    "prompt = FewShotPromptTemplate(\n",
    "    example_prompt = example_prompt,\n",
    "    examples = examples,\n",
    "    suffix = \"Human: What do you know about {country}?\",\n",
    "    input_variables = [\"country\"],\n",
    ")\n",
    "\n",
    "chain = prompt | chat\n",
    "\n",
    "chain.invoke({\n",
    "    \"country\": \"Germany\",\n",
    "})"
   ]
  },
  {
   "cell_type": "markdown",
   "metadata": {},
   "source": [
    "## FewShotChatMessagePromptTemplate"
   ]
  },
  {
   "cell_type": "code",
   "execution_count": 12,
   "metadata": {},
   "outputs": [
    {
     "name": "stdout",
     "output_type": "stream",
     "text": [
      "\n",
      "        Here is what I know:\n",
      "        Capital: Berlin\n",
      "        Population: 83 million\n",
      "        "
     ]
    },
    {
     "data": {
      "text/plain": [
       "AIMessageChunk(content='\\n        Here is what I know:\\n        Capital: Berlin\\n        Population: 83 million\\n        ')"
      ]
     },
     "execution_count": 12,
     "metadata": {},
     "output_type": "execute_result"
    }
   ],
   "source": [
    "from langchain.prompts import ChatPromptTemplate\n",
    "from langchain.prompts.few_shot import FewShotChatMessagePromptTemplate\n",
    "\n",
    "example_prompt = ChatPromptTemplate.from_messages([\n",
    "    (\"human\", \"What do you know about {question}?\"),\n",
    "    (\"ai\", \"{answer}\"),\n",
    "])\n",
    "\n",
    "examples = [\n",
    "    {\n",
    "        \"question\": \"France\",\n",
    "        \"answer\": \"\"\"\n",
    "        Here is what I know:\n",
    "        Capital: Paris\n",
    "        Population: 67 million\n",
    "        Language: French\n",
    "        \"\"\",\n",
    "    },\n",
    "    {\n",
    "        \"question\": \"Spain\",\n",
    "        \"answer\": \"\"\"\n",
    "        Here is what I know:\n",
    "        Capital: Madrid\n",
    "        Population: 47 million\n",
    "        \"\"\"\n",
    "    },\n",
    "    {\n",
    "        \"question\": \"Italy\",\n",
    "        \"answer\": \"\"\"\n",
    "        Here is what I know:\n",
    "        Capital: Rome\n",
    "        Population: 60 million\n",
    "        \"\"\"\n",
    "    }\n",
    "]\n",
    "\n",
    "example_prompt = FewShotChatMessagePromptTemplate(\n",
    "    example_prompt = example_prompt,\n",
    "    examples = examples,\n",
    ")\n",
    "\n",
    "final_prompt = ChatPromptTemplate.from_messages([\n",
    "    (\"system\", \"You are a geography expert.\"),\n",
    "    example_prompt,\n",
    "    (\"human\", \"What do you know about {country}?\"),\n",
    "])\n",
    "\n",
    "chain = final_prompt | chat\n",
    "\n",
    "chain.invoke({\n",
    "    \"country\": \"Germany\",\n",
    "})"
   ]
  },
  {
   "cell_type": "code",
   "execution_count": 24,
   "metadata": {},
   "outputs": [
    {
     "data": {
      "text/plain": [
       "'Human:What do you know about Italy?\\nAI:\\n        Here is what I know:\\n        Capital: Rome\\n        Population: 60 million\\n        \\n\\nHuman: What do you know about France?'"
      ]
     },
     "execution_count": 24,
     "metadata": {},
     "output_type": "execute_result"
    }
   ],
   "source": [
    "from langchain.prompts.example_selector import LengthBasedExampleSelector\n",
    "from langchain.prompts.example_selector.base import BaseExampleSelector\n",
    "\n",
    "examples = [\n",
    "    {\n",
    "        \"question\": \"What do you know about France?\",\n",
    "        \"answer\": \"\"\"\n",
    "        Here is what I know:\n",
    "        Capital: Paris\n",
    "        Population: 67 million\n",
    "        Language: French\n",
    "        \"\"\",\n",
    "    },\n",
    "    {\n",
    "        \"question\": \"What do you know about Spain?\",\n",
    "        \"answer\": \"\"\"\n",
    "        Here is what I know:\n",
    "        Capital: Madrid\n",
    "        Population: 47 million\n",
    "        \"\"\"\n",
    "    },\n",
    "    {\n",
    "        \"question\": \"What do you know about Italy?\",\n",
    "        \"answer\": \"\"\"\n",
    "        Here is what I know:\n",
    "        Capital: Rome\n",
    "        Population: 60 million\n",
    "        \"\"\"\n",
    "    }\n",
    "]\n",
    "\n",
    "class RandomExampleSelector(BaseExampleSelector):\n",
    "    def __init__(self, examples):\n",
    "        self.examples = examples\n",
    "\n",
    "    def add_example(self, example):\n",
    "        self.examples.append(example)\n",
    "\n",
    "    def select_examples(self, input_variables):\n",
    "        from random import choice\n",
    "        return [choice(self.examples)]\n",
    "\n",
    "example_prompt = PromptTemplate.from_template(\"Human:{question}\\nAI:{answer}\")\n",
    "\n",
    "example_selector = LengthBasedExampleSelector(\n",
    "    examples = examples,\n",
    "    example_prompt = example_prompt,\n",
    "    max_length = 300,\n",
    ")\n",
    "\n",
    "random_example_selector = RandomExampleSelector(examples=examples)\n",
    "\n",
    "prompt = FewShotPromptTemplate(\n",
    "    example_prompt = example_prompt,\n",
    "    example_selector = random_example_selector,\n",
    "    suffix = \"Human: What do you know about {country}?\",\n",
    "    input_variables = [\"country\"],\n",
    ")\n",
    "\n",
    "prompt.format(country=\"France\")"
   ]
  },
  {
   "cell_type": "markdown",
   "metadata": {},
   "source": [
    "## Serialization and Composition"
   ]
  },
  {
   "cell_type": "code",
   "execution_count": 25,
   "metadata": {},
   "outputs": [
    {
     "data": {
      "text/plain": [
       "'What is the capital of France?'"
      ]
     },
     "execution_count": 25,
     "metadata": {},
     "output_type": "execute_result"
    }
   ],
   "source": [
    "from langchain.prompts import load_prompt\n",
    "\n",
    "prompt = load_prompt(\"prompt.json\")\n",
    "\n",
    "prompt.format(country=\"France\")"
   ]
  },
  {
   "cell_type": "code",
   "execution_count": 26,
   "metadata": {},
   "outputs": [
    {
     "data": {
      "text/plain": [
       "'What is the capital of France?'"
      ]
     },
     "execution_count": 26,
     "metadata": {},
     "output_type": "execute_result"
    }
   ],
   "source": [
    "prompt = load_prompt(\"prompt.yaml\")\n",
    "\n",
    "prompt.format(country=\"France\")"
   ]
  },
  {
   "cell_type": "code",
   "execution_count": 32,
   "metadata": {},
   "outputs": [
    {
     "name": "stdout",
     "output_type": "stream",
     "text": [
      "Arrr, me age be as old as the seas themselves! But a true pirate never reveals his exact age, matey."
     ]
    },
    {
     "data": {
      "text/plain": [
       "AIMessageChunk(content='Arrr, me age be as old as the seas themselves! But a true pirate never reveals his exact age, matey.')"
      ]
     },
     "execution_count": 32,
     "metadata": {},
     "output_type": "execute_result"
    }
   ],
   "source": [
    "from langchain.prompts.pipeline import PipelinePromptTemplate\n",
    "\n",
    "intro = PromptTemplate.from_template(\n",
    "    \"\"\"\n",
    "    You are a role playing assistant.\n",
    "    And you are impersonating a {character}\n",
    "\"\"\"\n",
    ")\n",
    "\n",
    "example = PromptTemplate.from_template(\n",
    "    \"\"\"\n",
    "    This is an example of how you talk:\n",
    "\n",
    "    Human: {example_question}\n",
    "    You: {example_answer}\n",
    "\"\"\"\n",
    ")\n",
    "\n",
    "start = PromptTemplate.from_template(\n",
    "    \"\"\"\n",
    "    Start now!\n",
    "\n",
    "    Human: {question}\n",
    "    You:\n",
    "\"\"\"\n",
    ")\n",
    "\n",
    "final = PromptTemplate.from_template(\n",
    "    \"\"\"\n",
    "    {intro}\n",
    "                                     \n",
    "    {example}\n",
    "                              \n",
    "    {start}\n",
    "\"\"\"\n",
    ")\n",
    "\n",
    "prompts = [\n",
    "    (\"intro\", intro),\n",
    "    (\"example\", example),\n",
    "    (\"start\", start),\n",
    "]\n",
    "\n",
    "full_prompt = PipelinePromptTemplate(\n",
    "    final_prompt = final,\n",
    "    pipeline_prompts = prompts,\n",
    ")\n",
    "\n",
    "full_prompt.format(\n",
    "    character=\"Pirate\",\n",
    "    example_question=\"What is the meaning of life?\",\n",
    "    example_answer=\"The meaning of life is to find the treasure!\",\n",
    "    question=\"How old are you?\",\n",
    ")\n",
    "\n",
    "chain = full_prompt | chat\n",
    "\n",
    "chain.invoke({\n",
    "    \"character\": \"Pirate\",\n",
    "    \"example_question\": \"What is the meaning of life?\",\n",
    "    \"example_answer\": \"The meaning of life is to find the treasure!\",\n",
    "    \"question\": \"How old are you?\",\n",
    "})"
   ]
  },
  {
   "cell_type": "markdown",
   "metadata": {},
   "source": [
    "## Caching"
   ]
  },
  {
   "cell_type": "code",
   "execution_count": 35,
   "metadata": {},
   "outputs": [
    {
     "name": "stdout",
     "output_type": "stream",
     "text": [
      "\u001b[32;1m\u001b[1;3m[llm/start]\u001b[0m \u001b[1m[1:llm:ChatOpenAI] Entering LLM run with input:\n",
      "\u001b[0m{\n",
      "  \"prompts\": [\n",
      "    \"Human: How do you make a cake?\"\n",
      "  ]\n",
      "}\n",
      "\u001b[36;1m\u001b[1;3m[llm/end]\u001b[0m \u001b[1m[1:llm:ChatOpenAI] [2.96s] Exiting LLM run with output:\n",
      "\u001b[0m{\n",
      "  \"generations\": [\n",
      "    [\n",
      "      {\n",
      "        \"text\": \"Here is a basic recipe for making a simple vanilla cake:\\n\\nIngredients:\\n- 2 1/2 cups all-purpose flour\\n- 1 1/2 cups granulated sugar\\n- 1 cup unsalted butter, softened\\n- 4 large eggs\\n- 1 cup milk\\n- 2 teaspoons vanilla extract\\n- 2 1/2 teaspoons baking powder\\n- 1/2 teaspoon salt\\n\\nInstructions:\\n1. Preheat your oven to 350°F (180°C) and grease and flour two 9-inch round cake pans.\\n2. In a medium bowl, whisk together the flour, baking powder, and salt. Set aside.\\n3. In a large mixing bowl, cream together the butter and sugar until light and fluffy.\\n4. Add the eggs one at a time, mixing well after each addition.\\n5. Stir in the vanilla extract.\\n6. Gradually add the dry ingredients to the wet ingredients, alternating with the milk, beginning and ending with the dry ingredients. Mix until just combined.\\n7. Divide the batter evenly between the prepared cake pans and smooth the tops with a spatula.\\n8. Bake in the preheated oven for 25-30 minutes, or until a toothpick inserted into the center of the cakes comes out clean.\\n9. Remove the cakes from the oven and let them cool in the pans for 10 minutes before transferring them to a wire rack to cool completely.\\n10. Once the cakes are completely cool, you can frost and decorate them as desired.\\n\\nEnjoy your homemade cake!\",\n",
      "        \"generation_info\": {\n",
      "          \"finish_reason\": \"stop\"\n",
      "        },\n",
      "        \"type\": \"ChatGeneration\",\n",
      "        \"message\": {\n",
      "          \"lc\": 1,\n",
      "          \"type\": \"constructor\",\n",
      "          \"id\": [\n",
      "            \"langchain\",\n",
      "            \"schema\",\n",
      "            \"messages\",\n",
      "            \"AIMessage\"\n",
      "          ],\n",
      "          \"kwargs\": {\n",
      "            \"content\": \"Here is a basic recipe for making a simple vanilla cake:\\n\\nIngredients:\\n- 2 1/2 cups all-purpose flour\\n- 1 1/2 cups granulated sugar\\n- 1 cup unsalted butter, softened\\n- 4 large eggs\\n- 1 cup milk\\n- 2 teaspoons vanilla extract\\n- 2 1/2 teaspoons baking powder\\n- 1/2 teaspoon salt\\n\\nInstructions:\\n1. Preheat your oven to 350°F (180°C) and grease and flour two 9-inch round cake pans.\\n2. In a medium bowl, whisk together the flour, baking powder, and salt. Set aside.\\n3. In a large mixing bowl, cream together the butter and sugar until light and fluffy.\\n4. Add the eggs one at a time, mixing well after each addition.\\n5. Stir in the vanilla extract.\\n6. Gradually add the dry ingredients to the wet ingredients, alternating with the milk, beginning and ending with the dry ingredients. Mix until just combined.\\n7. Divide the batter evenly between the prepared cake pans and smooth the tops with a spatula.\\n8. Bake in the preheated oven for 25-30 minutes, or until a toothpick inserted into the center of the cakes comes out clean.\\n9. Remove the cakes from the oven and let them cool in the pans for 10 minutes before transferring them to a wire rack to cool completely.\\n10. Once the cakes are completely cool, you can frost and decorate them as desired.\\n\\nEnjoy your homemade cake!\",\n",
      "            \"additional_kwargs\": {}\n",
      "          }\n",
      "        }\n",
      "      }\n",
      "    ]\n",
      "  ],\n",
      "  \"llm_output\": {\n",
      "    \"token_usage\": {\n",
      "      \"prompt_tokens\": 14,\n",
      "      \"completion_tokens\": 315,\n",
      "      \"total_tokens\": 329,\n",
      "      \"prompt_tokens_details\": {\n",
      "        \"cached_tokens\": 0,\n",
      "        \"audio_tokens\": 0\n",
      "      },\n",
      "      \"completion_tokens_details\": {\n",
      "        \"reasoning_tokens\": 0,\n",
      "        \"audio_tokens\": 0,\n",
      "        \"accepted_prediction_tokens\": 0,\n",
      "        \"rejected_prediction_tokens\": 0\n",
      "      }\n",
      "    },\n",
      "    \"model_name\": \"gpt-3.5-turbo\",\n",
      "    \"system_fingerprint\": null\n",
      "  },\n",
      "  \"run\": null\n",
      "}\n"
     ]
    },
    {
     "data": {
      "text/plain": [
       "'Here is a basic recipe for making a simple vanilla cake:\\n\\nIngredients:\\n- 2 1/2 cups all-purpose flour\\n- 1 1/2 cups granulated sugar\\n- 1 cup unsalted butter, softened\\n- 4 large eggs\\n- 1 cup milk\\n- 2 teaspoons vanilla extract\\n- 2 1/2 teaspoons baking powder\\n- 1/2 teaspoon salt\\n\\nInstructions:\\n1. Preheat your oven to 350°F (180°C) and grease and flour two 9-inch round cake pans.\\n2. In a medium bowl, whisk together the flour, baking powder, and salt. Set aside.\\n3. In a large mixing bowl, cream together the butter and sugar until light and fluffy.\\n4. Add the eggs one at a time, mixing well after each addition.\\n5. Stir in the vanilla extract.\\n6. Gradually add the dry ingredients to the wet ingredients, alternating with the milk, beginning and ending with the dry ingredients. Mix until just combined.\\n7. Divide the batter evenly between the prepared cake pans and smooth the tops with a spatula.\\n8. Bake in the preheated oven for 25-30 minutes, or until a toothpick inserted into the center of the cakes comes out clean.\\n9. Remove the cakes from the oven and let them cool in the pans for 10 minutes before transferring them to a wire rack to cool completely.\\n10. Once the cakes are completely cool, you can frost and decorate them as desired.\\n\\nEnjoy your homemade cake!'"
      ]
     },
     "execution_count": 35,
     "metadata": {},
     "output_type": "execute_result"
    }
   ],
   "source": [
    "from langchain.globals import set_llm_cache, set_debug\n",
    "from langchain.cache import InMemoryCache\n",
    "\n",
    "set_llm_cache(InMemoryCache())\n",
    "set_debug(True)\n",
    "\n",
    "chat = ChatOpenAI(temperature=0.1)\n",
    "\n",
    "chat.predict(\"How do you make a cake?\")"
   ]
  },
  {
   "cell_type": "code",
   "execution_count": 36,
   "metadata": {},
   "outputs": [
    {
     "name": "stdout",
     "output_type": "stream",
     "text": [
      "\u001b[32;1m\u001b[1;3m[llm/start]\u001b[0m \u001b[1m[1:llm:ChatOpenAI] Entering LLM run with input:\n",
      "\u001b[0m{\n",
      "  \"prompts\": [\n",
      "    \"Human: How do you make a cake?\"\n",
      "  ]\n",
      "}\n",
      "\u001b[36;1m\u001b[1;3m[llm/end]\u001b[0m \u001b[1m[1:llm:ChatOpenAI] [1ms] Exiting LLM run with output:\n",
      "\u001b[0m{\n",
      "  \"generations\": [\n",
      "    [\n",
      "      {\n",
      "        \"text\": \"Here is a basic recipe for making a simple vanilla cake:\\n\\nIngredients:\\n- 2 1/2 cups all-purpose flour\\n- 1 1/2 cups granulated sugar\\n- 1 cup unsalted butter, softened\\n- 4 large eggs\\n- 1 cup milk\\n- 2 teaspoons vanilla extract\\n- 2 1/2 teaspoons baking powder\\n- 1/2 teaspoon salt\\n\\nInstructions:\\n1. Preheat your oven to 350°F (180°C) and grease and flour two 9-inch round cake pans.\\n2. In a medium bowl, whisk together the flour, baking powder, and salt. Set aside.\\n3. In a large mixing bowl, cream together the butter and sugar until light and fluffy.\\n4. Add the eggs one at a time, mixing well after each addition.\\n5. Stir in the vanilla extract.\\n6. Gradually add the dry ingredients to the wet ingredients, alternating with the milk, beginning and ending with the dry ingredients. Mix until just combined.\\n7. Divide the batter evenly between the prepared cake pans and smooth the tops with a spatula.\\n8. Bake in the preheated oven for 25-30 minutes, or until a toothpick inserted into the center of the cakes comes out clean.\\n9. Remove the cakes from the oven and let them cool in the pans for 10 minutes before transferring them to a wire rack to cool completely.\\n10. Once the cakes are completely cool, you can frost and decorate them as desired.\\n\\nEnjoy your homemade cake!\",\n",
      "        \"generation_info\": {\n",
      "          \"finish_reason\": \"stop\"\n",
      "        },\n",
      "        \"type\": \"ChatGeneration\",\n",
      "        \"message\": {\n",
      "          \"lc\": 1,\n",
      "          \"type\": \"constructor\",\n",
      "          \"id\": [\n",
      "            \"langchain\",\n",
      "            \"schema\",\n",
      "            \"messages\",\n",
      "            \"AIMessage\"\n",
      "          ],\n",
      "          \"kwargs\": {\n",
      "            \"content\": \"Here is a basic recipe for making a simple vanilla cake:\\n\\nIngredients:\\n- 2 1/2 cups all-purpose flour\\n- 1 1/2 cups granulated sugar\\n- 1 cup unsalted butter, softened\\n- 4 large eggs\\n- 1 cup milk\\n- 2 teaspoons vanilla extract\\n- 2 1/2 teaspoons baking powder\\n- 1/2 teaspoon salt\\n\\nInstructions:\\n1. Preheat your oven to 350°F (180°C) and grease and flour two 9-inch round cake pans.\\n2. In a medium bowl, whisk together the flour, baking powder, and salt. Set aside.\\n3. In a large mixing bowl, cream together the butter and sugar until light and fluffy.\\n4. Add the eggs one at a time, mixing well after each addition.\\n5. Stir in the vanilla extract.\\n6. Gradually add the dry ingredients to the wet ingredients, alternating with the milk, beginning and ending with the dry ingredients. Mix until just combined.\\n7. Divide the batter evenly between the prepared cake pans and smooth the tops with a spatula.\\n8. Bake in the preheated oven for 25-30 minutes, or until a toothpick inserted into the center of the cakes comes out clean.\\n9. Remove the cakes from the oven and let them cool in the pans for 10 minutes before transferring them to a wire rack to cool completely.\\n10. Once the cakes are completely cool, you can frost and decorate them as desired.\\n\\nEnjoy your homemade cake!\",\n",
      "            \"additional_kwargs\": {}\n",
      "          }\n",
      "        }\n",
      "      }\n",
      "    ]\n",
      "  ],\n",
      "  \"llm_output\": null,\n",
      "  \"run\": null\n",
      "}\n"
     ]
    },
    {
     "data": {
      "text/plain": [
       "'Here is a basic recipe for making a simple vanilla cake:\\n\\nIngredients:\\n- 2 1/2 cups all-purpose flour\\n- 1 1/2 cups granulated sugar\\n- 1 cup unsalted butter, softened\\n- 4 large eggs\\n- 1 cup milk\\n- 2 teaspoons vanilla extract\\n- 2 1/2 teaspoons baking powder\\n- 1/2 teaspoon salt\\n\\nInstructions:\\n1. Preheat your oven to 350°F (180°C) and grease and flour two 9-inch round cake pans.\\n2. In a medium bowl, whisk together the flour, baking powder, and salt. Set aside.\\n3. In a large mixing bowl, cream together the butter and sugar until light and fluffy.\\n4. Add the eggs one at a time, mixing well after each addition.\\n5. Stir in the vanilla extract.\\n6. Gradually add the dry ingredients to the wet ingredients, alternating with the milk, beginning and ending with the dry ingredients. Mix until just combined.\\n7. Divide the batter evenly between the prepared cake pans and smooth the tops with a spatula.\\n8. Bake in the preheated oven for 25-30 minutes, or until a toothpick inserted into the center of the cakes comes out clean.\\n9. Remove the cakes from the oven and let them cool in the pans for 10 minutes before transferring them to a wire rack to cool completely.\\n10. Once the cakes are completely cool, you can frost and decorate them as desired.\\n\\nEnjoy your homemade cake!'"
      ]
     },
     "execution_count": 36,
     "metadata": {},
     "output_type": "execute_result"
    }
   ],
   "source": [
    "chat.predict(\"How do you make a cake?\")"
   ]
  },
  {
   "cell_type": "code",
   "execution_count": 38,
   "metadata": {},
   "outputs": [
    {
     "name": "stdout",
     "output_type": "stream",
     "text": [
      "\u001b[32;1m\u001b[1;3m[llm/start]\u001b[0m \u001b[1m[1:llm:ChatOpenAI] Entering LLM run with input:\n",
      "\u001b[0m{\n",
      "  \"prompts\": [\n",
      "    \"Human: How do you make a cake?\"\n",
      "  ]\n",
      "}\n",
      "\u001b[36;1m\u001b[1;3m[llm/end]\u001b[0m \u001b[1m[1:llm:ChatOpenAI] [3.02s] Exiting LLM run with output:\n",
      "\u001b[0m{\n",
      "  \"generations\": [\n",
      "    [\n",
      "      {\n",
      "        \"text\": \"Here is a basic recipe for making a simple vanilla cake:\\n\\nIngredients:\\n- 2 1/2 cups all-purpose flour\\n- 1 1/2 cups granulated sugar\\n- 1 cup unsalted butter, softened\\n- 4 large eggs\\n- 1 cup milk\\n- 2 teaspoons vanilla extract\\n- 2 1/2 teaspoons baking powder\\n- 1/2 teaspoon salt\\n\\nInstructions:\\n1. Preheat your oven to 350°F (180°C) and grease and flour two 9-inch round cake pans.\\n2. In a medium bowl, whisk together the flour, baking powder, and salt. Set aside.\\n3. In a large mixing bowl, cream together the butter and sugar until light and fluffy.\\n4. Add the eggs one at a time, mixing well after each addition.\\n5. Stir in the vanilla extract.\\n6. Gradually add the dry ingredients to the wet ingredients, alternating with the milk, beginning and ending with the dry ingredients. Mix until just combined.\\n7. Divide the batter evenly between the prepared cake pans.\\n8. Bake in the preheated oven for 25-30 minutes, or until a toothpick inserted into the center of the cakes comes out clean.\\n9. Allow the cakes to cool in the pans for 10 minutes, then remove them from the pans and transfer to a wire rack to cool completely before frosting.\\n\\nYou can frost the cake with your favorite frosting, such as buttercream or cream cheese frosting, and decorate as desired. Enjoy your homemade cake!\",\n",
      "        \"generation_info\": {\n",
      "          \"finish_reason\": \"stop\"\n",
      "        },\n",
      "        \"type\": \"ChatGeneration\",\n",
      "        \"message\": {\n",
      "          \"lc\": 1,\n",
      "          \"type\": \"constructor\",\n",
      "          \"id\": [\n",
      "            \"langchain\",\n",
      "            \"schema\",\n",
      "            \"messages\",\n",
      "            \"AIMessage\"\n",
      "          ],\n",
      "          \"kwargs\": {\n",
      "            \"content\": \"Here is a basic recipe for making a simple vanilla cake:\\n\\nIngredients:\\n- 2 1/2 cups all-purpose flour\\n- 1 1/2 cups granulated sugar\\n- 1 cup unsalted butter, softened\\n- 4 large eggs\\n- 1 cup milk\\n- 2 teaspoons vanilla extract\\n- 2 1/2 teaspoons baking powder\\n- 1/2 teaspoon salt\\n\\nInstructions:\\n1. Preheat your oven to 350°F (180°C) and grease and flour two 9-inch round cake pans.\\n2. In a medium bowl, whisk together the flour, baking powder, and salt. Set aside.\\n3. In a large mixing bowl, cream together the butter and sugar until light and fluffy.\\n4. Add the eggs one at a time, mixing well after each addition.\\n5. Stir in the vanilla extract.\\n6. Gradually add the dry ingredients to the wet ingredients, alternating with the milk, beginning and ending with the dry ingredients. Mix until just combined.\\n7. Divide the batter evenly between the prepared cake pans.\\n8. Bake in the preheated oven for 25-30 minutes, or until a toothpick inserted into the center of the cakes comes out clean.\\n9. Allow the cakes to cool in the pans for 10 minutes, then remove them from the pans and transfer to a wire rack to cool completely before frosting.\\n\\nYou can frost the cake with your favorite frosting, such as buttercream or cream cheese frosting, and decorate as desired. Enjoy your homemade cake!\",\n",
      "            \"additional_kwargs\": {}\n",
      "          }\n",
      "        }\n",
      "      }\n",
      "    ]\n",
      "  ],\n",
      "  \"llm_output\": {\n",
      "    \"token_usage\": {\n",
      "      \"prompt_tokens\": 14,\n",
      "      \"completion_tokens\": 316,\n",
      "      \"total_tokens\": 330,\n",
      "      \"prompt_tokens_details\": {\n",
      "        \"cached_tokens\": 0,\n",
      "        \"audio_tokens\": 0\n",
      "      },\n",
      "      \"completion_tokens_details\": {\n",
      "        \"reasoning_tokens\": 0,\n",
      "        \"audio_tokens\": 0,\n",
      "        \"accepted_prediction_tokens\": 0,\n",
      "        \"rejected_prediction_tokens\": 0\n",
      "      }\n",
      "    },\n",
      "    \"model_name\": \"gpt-3.5-turbo\",\n",
      "    \"system_fingerprint\": null\n",
      "  },\n",
      "  \"run\": null\n",
      "}\n"
     ]
    },
    {
     "data": {
      "text/plain": [
       "'Here is a basic recipe for making a simple vanilla cake:\\n\\nIngredients:\\n- 2 1/2 cups all-purpose flour\\n- 1 1/2 cups granulated sugar\\n- 1 cup unsalted butter, softened\\n- 4 large eggs\\n- 1 cup milk\\n- 2 teaspoons vanilla extract\\n- 2 1/2 teaspoons baking powder\\n- 1/2 teaspoon salt\\n\\nInstructions:\\n1. Preheat your oven to 350°F (180°C) and grease and flour two 9-inch round cake pans.\\n2. In a medium bowl, whisk together the flour, baking powder, and salt. Set aside.\\n3. In a large mixing bowl, cream together the butter and sugar until light and fluffy.\\n4. Add the eggs one at a time, mixing well after each addition.\\n5. Stir in the vanilla extract.\\n6. Gradually add the dry ingredients to the wet ingredients, alternating with the milk, beginning and ending with the dry ingredients. Mix until just combined.\\n7. Divide the batter evenly between the prepared cake pans.\\n8. Bake in the preheated oven for 25-30 minutes, or until a toothpick inserted into the center of the cakes comes out clean.\\n9. Allow the cakes to cool in the pans for 10 minutes, then remove them from the pans and transfer to a wire rack to cool completely before frosting.\\n\\nYou can frost the cake with your favorite frosting, such as buttercream or cream cheese frosting, and decorate as desired. Enjoy your homemade cake!'"
      ]
     },
     "execution_count": 38,
     "metadata": {},
     "output_type": "execute_result"
    }
   ],
   "source": [
    "from langchain.cache import SQLiteCache\n",
    "\n",
    "set_llm_cache(SQLiteCache(database_path=\"cache.db\"))\n",
    "\n",
    "chat.predict(\"How do you make a cake?\")"
   ]
  },
  {
   "cell_type": "markdown",
   "metadata": {},
   "source": [
    "## Serialization"
   ]
  },
  {
   "cell_type": "code",
   "execution_count": 39,
   "metadata": {},
   "outputs": [
    {
     "name": "stdout",
     "output_type": "stream",
     "text": [
      "\u001b[32;1m\u001b[1;3m[llm/start]\u001b[0m \u001b[1m[1:llm:ChatOpenAI] Entering LLM run with input:\n",
      "\u001b[0m{\n",
      "  \"prompts\": [\n",
      "    \"Human: How do you make a cake?\"\n",
      "  ]\n",
      "}\n",
      "\u001b[36;1m\u001b[1;3m[llm/end]\u001b[0m \u001b[1m[1:llm:ChatOpenAI] [3.73s] Exiting LLM run with output:\n",
      "\u001b[0m{\n",
      "  \"generations\": [\n",
      "    [\n",
      "      {\n",
      "        \"text\": \"Here is a basic recipe for making a simple vanilla cake:\\n\\nIngredients:\\n- 2 1/2 cups all-purpose flour\\n- 1 1/2 cups granulated sugar\\n- 1 cup unsalted butter, softened\\n- 4 large eggs\\n- 1 cup milk\\n- 2 teaspoons vanilla extract\\n- 2 1/2 teaspoons baking powder\\n- 1/2 teaspoon salt\\n\\nInstructions:\\n1. Preheat your oven to 350°F (180°C) and grease and flour two 9-inch round cake pans.\\n2. In a medium bowl, whisk together the flour, baking powder, and salt. Set aside.\\n3. In a large mixing bowl, cream together the butter and sugar until light and fluffy.\\n4. Add the eggs one at a time, mixing well after each addition.\\n5. Stir in the vanilla extract.\\n6. Gradually add the dry ingredients to the wet ingredients, alternating with the milk, beginning and ending with the dry ingredients. Mix until just combined.\\n7. Divide the batter evenly between the prepared cake pans.\\n8. Bake in the preheated oven for 25-30 minutes, or until a toothpick inserted into the center of the cakes comes out clean.\\n9. Allow the cakes to cool in the pans for 10 minutes, then remove them from the pans and transfer to a wire rack to cool completely before frosting.\\n\\nYou can frost the cake with your favorite frosting, such as buttercream or cream cheese frosting, and decorate as desired. Enjoy your homemade cake!\",\n",
      "        \"generation_info\": {\n",
      "          \"finish_reason\": \"stop\"\n",
      "        },\n",
      "        \"type\": \"ChatGeneration\",\n",
      "        \"message\": {\n",
      "          \"lc\": 1,\n",
      "          \"type\": \"constructor\",\n",
      "          \"id\": [\n",
      "            \"langchain\",\n",
      "            \"schema\",\n",
      "            \"messages\",\n",
      "            \"AIMessage\"\n",
      "          ],\n",
      "          \"kwargs\": {\n",
      "            \"content\": \"Here is a basic recipe for making a simple vanilla cake:\\n\\nIngredients:\\n- 2 1/2 cups all-purpose flour\\n- 1 1/2 cups granulated sugar\\n- 1 cup unsalted butter, softened\\n- 4 large eggs\\n- 1 cup milk\\n- 2 teaspoons vanilla extract\\n- 2 1/2 teaspoons baking powder\\n- 1/2 teaspoon salt\\n\\nInstructions:\\n1. Preheat your oven to 350°F (180°C) and grease and flour two 9-inch round cake pans.\\n2. In a medium bowl, whisk together the flour, baking powder, and salt. Set aside.\\n3. In a large mixing bowl, cream together the butter and sugar until light and fluffy.\\n4. Add the eggs one at a time, mixing well after each addition.\\n5. Stir in the vanilla extract.\\n6. Gradually add the dry ingredients to the wet ingredients, alternating with the milk, beginning and ending with the dry ingredients. Mix until just combined.\\n7. Divide the batter evenly between the prepared cake pans.\\n8. Bake in the preheated oven for 25-30 minutes, or until a toothpick inserted into the center of the cakes comes out clean.\\n9. Allow the cakes to cool in the pans for 10 minutes, then remove them from the pans and transfer to a wire rack to cool completely before frosting.\\n\\nYou can frost the cake with your favorite frosting, such as buttercream or cream cheese frosting, and decorate as desired. Enjoy your homemade cake!\",\n",
      "            \"additional_kwargs\": {}\n",
      "          }\n",
      "        }\n",
      "      }\n",
      "    ]\n",
      "  ],\n",
      "  \"llm_output\": {\n",
      "    \"token_usage\": {\n",
      "      \"prompt_tokens\": 14,\n",
      "      \"completion_tokens\": 316,\n",
      "      \"total_tokens\": 330,\n",
      "      \"prompt_tokens_details\": {\n",
      "        \"cached_tokens\": 0,\n",
      "        \"audio_tokens\": 0\n",
      "      },\n",
      "      \"completion_tokens_details\": {\n",
      "        \"reasoning_tokens\": 0,\n",
      "        \"audio_tokens\": 0,\n",
      "        \"accepted_prediction_tokens\": 0,\n",
      "        \"rejected_prediction_tokens\": 0\n",
      "      }\n",
      "    },\n",
      "    \"model_name\": \"gpt-3.5-turbo\",\n",
      "    \"system_fingerprint\": null\n",
      "  },\n",
      "  \"run\": null\n",
      "}\n",
      "Tokens Used: 330\n",
      "\tPrompt Tokens: 14\n",
      "\tCompletion Tokens: 316\n",
      "Successful Requests: 1\n",
      "Total Cost (USD): $0.0006529999999999999\n"
     ]
    }
   ],
   "source": [
    "from langchain.callbacks import get_openai_callback\n",
    "\n",
    "set_llm_cache(None)\n",
    "\n",
    "with get_openai_callback() as usage:\n",
    "    chat.predict(\"How do you make a cake?\")\n",
    "    print(usage)"
   ]
  },
  {
   "cell_type": "code",
   "execution_count": 40,
   "metadata": {},
   "outputs": [],
   "source": [
    "from langchain.llms.openai import OpenAI\n",
    "\n",
    "chat = OpenAI(temperature=0.1, max_tokens=450, model=\"gpt-3.5-turbo-16k\")\n",
    "\n",
    "chat.save(\"model.json\")"
   ]
  },
  {
   "cell_type": "code",
   "execution_count": 41,
   "metadata": {},
   "outputs": [
    {
     "name": "stderr",
     "output_type": "stream",
     "text": [
      "/Users/davidminjae/.local/share/virtualenvs/fullstack-gpt-Wpua4Cas/lib/python3.11/site-packages/langchain/llms/openai.py:216: UserWarning: You are trying to use a chat model. This way of initializing it is no longer supported. Instead, please use: `from langchain.chat_models import ChatOpenAI`\n",
      "  warnings.warn(\n",
      "/Users/davidminjae/.local/share/virtualenvs/fullstack-gpt-Wpua4Cas/lib/python3.11/site-packages/langchain/llms/openai.py:811: UserWarning: You are trying to use a chat model. This way of initializing it is no longer supported. Instead, please use: `from langchain.chat_models import ChatOpenAI`\n",
      "  warnings.warn(\n"
     ]
    },
    {
     "data": {
      "text/plain": [
       "OpenAIChat(client=<class 'openai.api_resources.chat_completion.ChatCompletion'>, model_name='gpt-3.5-turbo-16k', model_kwargs={'temperature': 0.1, 'max_tokens': 450, 'top_p': 1, 'frequency_penalty': 0, 'presence_penalty': 0, 'n': 1, 'request_timeout': None, 'logit_bias': {}})"
      ]
     },
     "execution_count": 41,
     "metadata": {},
     "output_type": "execute_result"
    }
   ],
   "source": [
    "from langchain.llms.loading import load_llm\n",
    "\n",
    "chat = load_llm(\"model.json\")\n",
    "\n",
    "chat"
   ]
  }
 ],
 "metadata": {
  "kernelspec": {
   "display_name": "fullstack-gpt-Wpua4Cas",
   "language": "python",
   "name": "python3"
  },
  "language_info": {
   "codemirror_mode": {
    "name": "ipython",
    "version": 3
   },
   "file_extension": ".py",
   "mimetype": "text/x-python",
   "name": "python",
   "nbconvert_exporter": "python",
   "pygments_lexer": "ipython3",
   "version": "3.11.6"
  }
 },
 "nbformat": 4,
 "nbformat_minor": 2
}
